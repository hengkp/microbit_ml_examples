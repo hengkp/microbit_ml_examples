{
  "nbformat": 4,
  "nbformat_minor": 0,
  "metadata": {
    "colab": {
      "provenance": []
    },
    "kernelspec": {
      "name": "python3",
      "display_name": "Python 3"
    },
    "language_info": {
      "name": "python"
    }
  },
  "cells": [
    {
      "cell_type": "markdown",
      "source": [
        "# การทำนายลักษณะกลุ่มโรคของพืช โดยใช้ Plant Disease Model\n",
        "\n",
        "ตัวอย่างนี้จะเป็นการทำนายลักษณะกลุ่มโรคของพืช (Plant Disease) จากรูปภาพใบไม้ โดยใช้โครงสร้างโมเดลแบบ CNN ซึ่งจากโมเดลที่พัฒนาขึ้น ทำให้เราสามารถกำหนดตำแหน่งจุดที่สำคัญบนรูปภาพ เพื่อใช้ในการทำนายลักษณะกลุ่มโรคของพืช \n",
        "ซึ่งเครื่องมือจากโมเดลดังกล่าวนี้ สามารถทำนายลักษณะของกลุ่มโรคในพืชแต่ละชนิดได้ทั้งหมด 39 รูปแบบ โดยแต่ละท่าทางที่ทำนายได้ \n",
        "\n",
        "<br>\n",
        "\n",
        "ซึ่งขั้นตอนการนำภาพถ่ายมาผ่านโปรแกรมทำนายลักษณะกลุ่มโรคของพืชได้สรุปเอาไว้ 5 ขั้นตอน ดังนี้\n",
        "<br><br>\n",
        "![plant_workflow.jpg](https://raw.github.com/hengkp/microbit_ml_examples/main/plant%20disease%20prediction/plant_workflow.jpg)\n",
        "<br><br>\n",
        "\n",
        "โดยมีรายละเอียดพร้อมตัวอย่างโค้ดในขั้นตอนต่าง ๆ คือ<br>\n",
        "**ขั้นตอนที่ 1** เตรียมชุดรูปภาพสำหรับเทรนโมเดล<br>\n",
        "**ขั้นตอนที่ 2** นำเข้าและเตรียมโมเดล<br>\n",
        "**ขั้นตอนที่ 3** เทรนโมเดลด้วยชุดรูปภาพที่เตรียมไว้<br>\n",
        "**ขั้นตอนที่ 4** ทำนายลักษณะกลุ่มโรคของพืชผ่านโมเดลที่เตรียมไว้้<br>\n",
        "**ขั้นตอนที่ 5** แสดงผลการทำนายลักษณะกลุ่มโรคของพืชจากรูปใบไม้<br>"
      ],
      "metadata": {
        "id": "2FIFDf_ZG0HT"
      }
    },
    {
      "cell_type": "code",
      "source": [
        "#@title **ขั้นตอนที่ 1** เตรียมชุดรูปภาพสำหรับเทรนโมเดล\n",
        "#@markdown เป็นขั้นตอนการดาวน์โหลดชุดข้อมูลจาก https://data.mendeley.com/datasets/tywbtsjrjv/1 ซึ่งเป็นชุดข้อมูลที่ Tensorflow นำมาใช้ในการเทรนโมเดล\n",
        "#@markdown สามารถกดรันเพื่อดาวน์โหลดโฟลเดอร์ **Plant_leave_diseases_dataset_with_augmentation** และจัดเรียงรูปตามกลุ่มเพื่อใช้สำหรับการเทรนโมเดล\n",
        "\n",
        "import os\n",
        "import shutil\n",
        "import urllib.request\n",
        "import gdown\n",
        "import zipfile\n",
        "import tensorflow as tf\n",
        "\n",
        "# ฟังก์ชั่นสำหรับแตกไฟล์ ZIP\n",
        "def extract_zip(filepath):\n",
        "  with zipfile.ZipFile(filepath, 'r') as zip_ref:\n",
        "    zip_ref.extractall()\n",
        "\n",
        "# ฟังก์ชั่นสำหรับลบโฟลเดอร์\n",
        "def remove_folder(path):\n",
        "    shutil.rmtree(path)\n",
        "\n",
        "# ฟังก์ชั่นสำหรับลบไฟล์\n",
        "def remove_file(file_path):\n",
        "    os.remove(file_path)\n",
        "\n",
        "# ดาวน์โหลดโฟลเดอร์ชุดข้อมูลทั้งหมด\n",
        "url = 'https://prod-dcd-datasets-cache-zipfiles.s3.eu-west-1.amazonaws.com/tywbtsjrjv-1.zip'\n",
        "filename = 'tywbtsjrjv-1.zip'\n",
        "urllib.request.urlretrieve(url, filename)\n",
        "extract_zip(filename)\n",
        "remove_file(filename)\n",
        "\n",
        "# แยกเฉพาะไฟล์รูปที่ต้องการเพื่อใช้เทรนโมเดล\n",
        "folder_dir = 'Data for Identification of Plant Leaf Diseases Using a 9-layer Deep Convolutional Neural Network'\n",
        "folder_filename = 'Plant_leaf_diseases_dataset_with_augmentation.zip'\n",
        "folder_path = os.path.join(folder_dir,folder_filename)\n",
        "extract_zip(folder_path)\n",
        "remove_folder(folder_dir)\n",
        "\n",
        "# กำหนดชื่อของแต่ละกลุ่ม\n",
        "folder_name = 'Plant_leave_diseases_dataset_with_augmentation'\n",
        "class_names = os.listdir(folder_name)\n",
        "num_classes = len(class_names)\n",
        "\n",
        "# กำหนดขนาดรูป\n",
        "image_size = 224\n",
        "target_size = (image_size, image_size)\n",
        "input_shape = (image_size, image_size, 3)\n",
        "\n",
        "# กำหนดค่าการรันเทรนโมเดล\n",
        "batch_size = 32\n",
        "epochs = 25\n",
        "\n",
        "# เตรียมชุดข้อมูล\n",
        "data_gen = tf.keras.preprocessing.image.ImageDataGenerator(rescale = 1/255.0)\n",
        "\n",
        "# นำภาพที่ต้องการมาใส่ในชุดข้อมูลที่เตรียมไว้\n",
        "train_dataset = data_gen.flow_from_directory(directory=folder_name, \n",
        "                                             target_size=target_size, \n",
        "                                             batch_size=batch_size, \n",
        "                                             class_mode='categorical', \n",
        "                                             classes=class_names)\n",
        "\n",
        "train_dataset"
      ],
      "metadata": {
        "colab": {
          "base_uri": "https://localhost:8080/"
        },
        "cellView": "form",
        "id": "s37OzuJgd0Tf",
        "outputId": "6708c113-0ee4-4fbe-8181-7ad7afa82668"
      },
      "execution_count": 7,
      "outputs": [
        {
          "output_type": "stream",
          "name": "stdout",
          "text": [
            "Found 61486 images belonging to 39 classes.\n"
          ]
        },
        {
          "output_type": "execute_result",
          "data": {
            "text/plain": [
              "<keras.preprocessing.image.DirectoryIterator at 0x7f072772f2b0>"
            ]
          },
          "metadata": {},
          "execution_count": 7
        }
      ]
    },
    {
      "cell_type": "code",
      "source": [
        "#@title **ขั้นตอนที่ 2** นำเข้าและเตรียมโมเดล\n",
        "#@markdown เขียนโมเดลสำหรับการทำนายลักษณะกลุ่มโรคของพืชจากรูปใบไม้โดยใช้โมเดลเริ่มต้น ImageNet V2 และปรับแต่งผลลัพธ์เพื่อให้สามารถจำแนกกลุ่มของโรคได้\n",
        "\n",
        "import os\n",
        "import tensorflow as tf\n",
        "\n",
        "# เตรียมโมเดลพื้นฐาน\n",
        "base_model = tf.keras.applications.MobileNetV2(weights='imagenet', include_top=False, input_shape=input_shape)\n",
        "\n",
        "# ตั้งค่าโมเดลพื้นฐานไม่ให้สามารถเปลี่ยนแปลงได้\n",
        "for layer in base_model.layers:\n",
        "    layer.trainable = False\n",
        "\n",
        "# ปรับแต่งโมเดลโดยเพิ่มขั้นตอนการแยกกลุ่ม เพื่อให้ได้ผลลัพท์ตามจำนวนที่กำหนด\n",
        "model = tf.keras.Sequential([\n",
        "    base_model,\n",
        "    tf.keras.layers.GlobalAveragePooling2D(),\n",
        "    tf.keras.layers.Dropout(0.2),\n",
        "    tf.keras.layers.Dense(num_classes, activation='softmax')\n",
        "])\n",
        "\n",
        "# กำหนดค่าฟังก์ชั่นที่จำเป็นต่อการเทรนโมเดล\n",
        "model.compile(optimizer='adam', loss='categorical_crossentropy', metrics=['accuracy'])\n",
        "\n",
        "model.summary()"
      ],
      "metadata": {
        "id": "aDSJHgYvN29I",
        "colab": {
          "base_uri": "https://localhost:8080/"
        },
        "cellView": "form",
        "outputId": "5e98f9d9-fbe8-4e44-b19e-b55fdd8195b5"
      },
      "execution_count": 8,
      "outputs": [
        {
          "output_type": "stream",
          "name": "stdout",
          "text": [
            "Downloading data from https://storage.googleapis.com/tensorflow/keras-applications/mobilenet_v2/mobilenet_v2_weights_tf_dim_ordering_tf_kernels_1.0_224_no_top.h5\n",
            "9406464/9406464 [==============================] - 0s 0us/step\n",
            "Model: \"sequential\"\n",
            "_________________________________________________________________\n",
            " Layer (type)                Output Shape              Param #   \n",
            "=================================================================\n",
            " mobilenetv2_1.00_224 (Funct  (None, 7, 7, 1280)       2257984   \n",
            " ional)                                                          \n",
            "                                                                 \n",
            " global_average_pooling2d (G  (None, 1280)             0         \n",
            " lobalAveragePooling2D)                                          \n",
            "                                                                 \n",
            " dropout (Dropout)           (None, 1280)              0         \n",
            "                                                                 \n",
            " dense (Dense)               (None, 39)                49959     \n",
            "                                                                 \n",
            "=================================================================\n",
            "Total params: 2,307,943\n",
            "Trainable params: 49,959\n",
            "Non-trainable params: 2,257,984\n",
            "_________________________________________________________________\n"
          ]
        }
      ]
    },
    {
      "cell_type": "code",
      "source": [
        "#@title **ขั้นตอนที่ 3** เทรนโมเดลด้วยชุดรูปภาพที่เตรียมไว้\n",
        "#@markdown กดรันเพื่อเริ่มการเทรนโมเดล โดยขั้นตอนนี้จะใช้เวลานานเพื่อประมวลผลเนื่องจากปริมาณของรูปที่ใช้มีจำนวนมาก <br>\n",
        "#@markdown ผู้เรียนสามารถข้ามขั้นตอนนี้ได้ โดยกดรันขั้นตอนต่อไปแทน ซึ่งเป็นขั้นตอนการนำเข้าโมเดลที่ผ่านการเทรนแล้วมาจากอินเตอร์เน็ต\n",
        "\n",
        "history = model.fit(train_dataset, \n",
        "                    epochs=epochs, \n",
        "                    steps_per_epoch=len(train_dataset),\n",
        "                    verbose=2)\n",
        "\n",
        "# บันทึกโมเดลที่ผ่านการเทรนแล้ว\n",
        "model.save('plant_disease_model.h5')"
      ],
      "metadata": {
        "colab": {
          "base_uri": "https://localhost:8080/"
        },
        "id": "KrlvB3KWQK6u",
        "outputId": "6a034e3a-ff12-4856-9de8-a8ce0af463db",
        "cellView": "form"
      },
      "execution_count": null,
      "outputs": [
        {
          "output_type": "stream",
          "name": "stdout",
          "text": [
            "Epoch 1/25\n"
          ]
        }
      ]
    },
    {
      "cell_type": "code",
      "source": [
        "#@title **ขั้นตอนเสริม** การนำเข้าโมเดลที่เก็บไว้ในโฟลเดอร์ Google Drive\n",
        "#@markdown กดรันเพื่อนำเข้าโมเดลจากไฟล์ **plant_disease_model.h5**\n",
        "\n",
        "# ดาวน์โหลดไฟล์โมเดล\n",
        "url = 'https://drive.google.com/file/d/1NkrgjMF14M3hvTZXoEqLyIzCHkT6GnAB/view?usp=sharing'\n",
        "filename = 'plant_disease_model.h5'\n",
        "gdown.download(url, filename)\n",
        "\n",
        "# นำเข้าโมเดล\n",
        "model = tf.keras.models.load_model('plant_disease_model.h5')"
      ],
      "metadata": {
        "id": "yBFJEZwoizDB",
        "cellView": "form"
      },
      "execution_count": null,
      "outputs": []
    },
    {
      "cell_type": "code",
      "source": [
        "#@title **ขั้นตอนที่ 4** ทำนายลักษณะกลุ่มโรคของพืชผ่านโมเดลที่เตรียมไว้\n",
        "#@markdown กดรันเพื่อนำเข้ารูปตัวอย่างที่ต้องการทำนายผลและทำนายผล\n",
        "\n",
        "from matplotlib import pyplot as plt\n",
        "import numpy as np\n",
        "import cv2\n",
        "from skimage import io\n",
        "\n",
        "# ใส่ที่อยู่ของภาพที่ต้องการนำเข้า\n",
        "image_path = \"Plant_leave_diseases_dataset_with_augmentation/Apple___healthy/image (1).JPG\"\n",
        "\n",
        "# นำเข้าและปรับขนาดภาพให้สอดคล้องกับความต้องการของโมเดล\n",
        "img = io.imread(image_path) \n",
        "img = cv2.resize(img, target_size) # resize to match inputs of model\n",
        "\n",
        "# ปรับลักษณะของรูปให้สอดคล้องกับความต้องการของโมเดล\n",
        "img_input = img / 255.0\n",
        "img_input = np.expand_dims(img_input, axis=0)\n",
        "\n",
        "# ประมวลผลภาพ\n",
        "prediction = model.predict(img_input, verbose=0)\n",
        "\n",
        "# ดึงข้อมูลพิกัดที่สำคัญที่ได้จากผลการประมวล\n",
        "class_index = np.argmax(prediction[0])\n",
        "class_name = list(class_names)[class_index]\n",
        "\n",
        "# เตรียมรูปภาพเพื่อแสดงผล\n",
        "if np.max(img) <= 1:\n",
        "    img = (img * 255).astype(np.uint8) # convert image back to [0..255] format\n",
        "fig, ax = plt.subplots(figsize=(6, 6)) # define size of figure\n",
        "\n",
        "# ใส่รูปภาพ\n",
        "plt.imshow(img)\n",
        "\n",
        "# ใส่ชื่อวัตถุลงในภาพ\n",
        "text = class_name + \" ({:.2f})\".format(prediction[0][class_index])\n",
        "ax.annotate(text, (3, 220), fontsize=24, color=\"red\")\n",
        "\n",
        "# แสดงผลรูปภาพพร้อมพิกัด\n",
        "plt.show()"
      ],
      "metadata": {
        "id": "0bzehYKolIxp",
        "colab": {
          "base_uri": "https://localhost:8080/",
          "height": 398
        },
        "outputId": "57872283-9d15-451c-b50d-7d175a5c364b",
        "cellView": "form"
      },
      "execution_count": null,
      "outputs": [
        {
          "output_type": "display_data",
          "data": {
            "text/plain": [
              "<Figure size 432x432 with 1 Axes>"
            ],
            "image/png": "[encoded data removed]"
          },
          "metadata": {
            "needs_background": "light"
          }
        }
      ]
    },
    {
      "cell_type": "code",
      "source": [
        "#@title **ขั้นตอนที่ 5** แสดงผลการทำนายลักษณะกลุ่มโรคของพืชจากรูปใบไม้\n",
        "#@markdown กดรันเพื่อแสดงผลการทำนาย\n",
        "\n",
        "# แสดงผลชื่อกลุ่มของวัตถุนั้น\n",
        "text = class_name + \" ({:.2f})\".format(prediction[0][class_index])\n",
        "print(\"Predicted Class:\", text)"
      ],
      "metadata": {
        "colab": {
          "base_uri": "https://localhost:8080/"
        },
        "id": "rgxT4CCloehl",
        "outputId": "951f3abf-2df4-4751-e6e8-d46fd944a3c7",
        "cellView": "form"
      },
      "execution_count": null,
      "outputs": [
        {
          "output_type": "stream",
          "name": "stdout",
          "text": [
            "Predicted Class: apple (0.92)\n"
          ]
        }
      ]
    }
  ]
}