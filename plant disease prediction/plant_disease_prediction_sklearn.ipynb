{
  "cells": [
    {
      "cell_type": "markdown",
      "source": [
        "# การทำนายลักษณะกลุ่มโรคของพืช โดยใช้ Plant Disease Model\n",
        "\n",
        "ตัวอย่างนี้จะเป็นการทำนายลักษณะกลุ่มโรคของพืช (Plant Disease) จากรูปภาพใบไม้ ซึ่งขั้นตอนการนำภาพถ่ายมาผ่านโปรแกรมทำนายลักษณะกลุ่มโรคของพืชได้สรุปเอาไว้ 4 ขั้นตอน ดังนี้\n",
        "\n",
        "โดยมีรายละเอียดพร้อมตัวอย่างโค้ดในขั้นตอนต่าง ๆ คือ<br>\n",
        "**ขั้นตอนที่ 1** นำเข้าชุดข้อมูลสำหรับการเทรนโมเดล<br>\n",
        "**ขั้นตอนที่ 2** เตรียมชุดข้อมูลสำหรับการเทรนโมเดล<br>\n",
        "**ขั้นตอนที่ 3** สร้างและเทรนโมเดล<br>\n",
        "**ขั้นตอนที่ 4** ทำนายลักษณะกลุ่มโรคของพืชผ่านโมเดลที่เตรียมไว้<br>"
      ],
      "metadata": {
        "id": "7q0Ji63N9IC4"
      }
    },
    {
      "cell_type": "code",
      "execution_count": 61,
      "metadata": {
        "id": "WuzlB2ws2BoB",
        "colab": {
          "base_uri": "https://localhost:8080/"
        },
        "outputId": "de769c20-066a-4712-e8db-0444fdafb306",
        "cellView": "form"
      },
      "outputs": [
        {
          "output_type": "stream",
          "name": "stdout",
          "text": [
            "Loading dataset.. Done.\n"
          ]
        }
      ],
      "source": [
        "#@title **ขั้นตอนที่ 1** นำเข้าชุดข้อมูลสำหรับการเทรนโมเดล\n",
        "#@markdown เป็นขั้นตอนการดาวน์โหลดชุดข้อมูลจาก https://data.mendeley.com/datasets/tywbtsjrjv/1 ซึ่งเป็นชุดข้อมูลที่ Tensorflow นำมาใช้ในการเทรนโมเดล\n",
        "\n",
        "import os\n",
        "import shutil\n",
        "import urllib.request\n",
        "import zipfile\n",
        "import re\n",
        "\n",
        "# ฟังก์ชั่นสำหรับแตกไฟล์ ZIP\n",
        "def extract_zip(filepath):\n",
        "  with zipfile.ZipFile(filepath, 'r') as zip_ref:\n",
        "    zip_ref.extractall()\n",
        "\n",
        "# ฟังก์ชั้นสำหรับลบโฟลเดอร์ที่ไม่เกี่ยวข้อง\n",
        "def remove_folder_selected(path,start_name):\n",
        "    for filename in os.listdir(path):\n",
        "        file_path = os.path.join(path, filename)\n",
        "        if not filename.startswith(start_name):\n",
        "            if os.path.isfile(file_path):\n",
        "                os.remove(file_path)\n",
        "            elif os.path.isdir(file_path):\n",
        "                shutil.rmtree(file_path)\n",
        "\n",
        "# ฟังก์ชั่นสำหรับลบรูปที่เกินจำนวนที่ต้องการ\n",
        "def remove_images_after(path,max_images):\n",
        "    for folder_name in os.listdir(path):\n",
        "        folder_dir = os.path.join(path, folder_name)\n",
        "        if os.path.isdir(folder_dir):\n",
        "            image_count = 1\n",
        "            for filename in os.listdir(folder_dir):\n",
        "                match = re.search(r\"\\((\\d+)\\)\", filename)\n",
        "                if match:\n",
        "                    number = int(match.group(1))\n",
        "                    if number > max_images:\n",
        "                        file_path = os.path.join(folder_dir, filename)\n",
        "                        os.remove(file_path)\n",
        "\n",
        "# ดาวน์โหลดโฟลเดอร์ชุดข้อมูลทั้งหมด\n",
        "url = 'https://prod-dcd-datasets-cache-zipfiles.s3.eu-west-1.amazonaws.com/tywbtsjrjv-1.zip'\n",
        "filename = 'plant_leaves_dataset.zip'\n",
        "urllib.request.urlretrieve(url, filename)\n",
        "extract_zip(filename)\n",
        "os.remove(filename)\n",
        "\n",
        "# แยกเฉพาะไฟล์รูปที่ต้องการเพื่อใช้เทรนโมเดล\n",
        "folder_dir = 'Data for Identification of Plant Leaf Diseases Using a 9-layer Deep Convolutional Neural Network'\n",
        "folder_filename = 'Plant_leaf_diseases_dataset_without_augmentation.zip'\n",
        "folder_path = os.path.join(folder_dir,folder_filename)\n",
        "extract_zip(folder_path)\n",
        "shutil.rmtree(folder_dir)\n",
        "folder_name = 'Plant_leave_diseases_dataset_without_augmentation'\n",
        "remove_folder_selected(folder_name,'Apple__')\n",
        "remove_images_after(folder_name,300)\n",
        "\n",
        "print('Loading dataset.. Done.')"
      ]
    },
    {
      "cell_type": "code",
      "execution_count": 62,
      "metadata": {
        "id": "tgFzmxWH-3qx",
        "colab": {
          "base_uri": "https://localhost:8080/"
        },
        "outputId": "02be2613-dc43-43e6-eeef-d8ff12686c45",
        "cellView": "form"
      },
      "outputs": [
        {
          "output_type": "stream",
          "name": "stdout",
          "text": [
            "Number of images: 1175\n",
            "Number of classes: 4\n"
          ]
        }
      ],
      "source": [
        "#@title **ขั้นตอนที่ 2** เตรียมชุดข้อมูลสำหรับการเทรนโมเดล\n",
        "#@markdown เป็นขั้นตอนการเตรียมชุดข้อมูลโดยแยกรูปภาพกับชื่อกลุ่ม สำหรับนำมาใช้ในการเทรนโมเดล\n",
        "\n",
        "import os\n",
        "import cv2\n",
        "from skimage import io\n",
        "import numpy as np\n",
        "\n",
        "from sklearn.model_selection import train_test_split\n",
        "from sklearn import preprocessing\n",
        "\n",
        "# ฟังก์ชั่นสำหรับนำเข้ารูปภาพและปรับสัดส่วนค่าสี (intensity) ให้อยู่ในช่วง 0 - 1\n",
        "def load_images(filename):\n",
        "    img = io.imread(filename)\n",
        "    img = cv2.resize(img, (64, 64)) # resize to match inputs of model\n",
        "    img = img / 255.0 # normalize image data\n",
        "    img = img.astype(np.float32)\n",
        "    return img\n",
        "\n",
        "# ฟังก์ชั่นสำหรับนำเข้ารูปภาพและชื่อ labels จากโฟลเดอร์\n",
        "def load_images_from_folder(folder):\n",
        "    images = []\n",
        "    labels = []\n",
        "    for foldername in os.listdir(folder):\n",
        "        for filename in os.listdir(os.path.join(folder, foldername)):\n",
        "            if filename.endswith('.JPG'):\n",
        "                filepath = os.path.join(folder, foldername, filename)\n",
        "                img = load_images(filepath)\n",
        "                images.append(img)\n",
        "                labels.append(foldername)  # Use folder name as the label .split('/')[-1]\n",
        "    return images, labels\n",
        "\n",
        "# นำเข้ารูปภาพและชื่อ class ของแต่ละรูป\n",
        "folder = 'Plant_leave_diseases_dataset_without_augmentation'\n",
        "images, labels = load_images_from_folder(folder)\n",
        "\n",
        "# แบ่งข้อมูลสำหรับ training และ testing\n",
        "X_train, X_test, y_train, y_test = train_test_split(images, labels, test_size=0.2, random_state=42)\n",
        "\n",
        "# ปรับตัวแปรให้สอดคล้องกับความต้องการของโมเดล\n",
        "X_train = np.array(X_train).reshape(len(X_train), -1)\n",
        "X_test = np.array(X_test).reshape(len(X_test), -1)\n",
        "\n",
        "# แสดงผลจำนวนรูปภาพที่ใช้และกลุ่ม class ทั้งหมด\n",
        "print(\"Number of images:\",len(labels))\n",
        "print(\"Number of classes:\",len(np.unique(labels)))"
      ]
    },
    {
      "cell_type": "code",
      "execution_count": 67,
      "metadata": {
        "id": "t_Jh-wn8-6eN",
        "colab": {
          "base_uri": "https://localhost:8080/"
        },
        "outputId": "bbd4a586-59d1-4c8a-ddc9-324da1d66874",
        "cellView": "form"
      },
      "outputs": [
        {
          "output_type": "stream",
          "name": "stdout",
          "text": [
            "Done training.\n",
            "Execution training time: 5.166106462478638 seconds\n",
            "\n",
            "Accuracy: 0.9106382978723404\n"
          ]
        }
      ],
      "source": [
        "#@title **ขั้นตอนที่ 3** สร้างและเทรนโมเดล\n",
        "#@markdown เป็นขั้นตอนการสร้างโมเดลเพื่อจำแนกรายละเอียดของรูปและเทรนโมเดลจากชุดข้อมูลที่เตรียมไว้ โดยมีการแสดงผล Accuracy จากรูปชุดทดสอบ\n",
        "\n",
        "from sklearn.svm import SVC\n",
        "from sklearn.pipeline import Pipeline\n",
        "from sklearn.preprocessing import StandardScaler\n",
        "from sklearn.decomposition import PCA\n",
        "import time\n",
        "\n",
        "# โครงสร้างของโมเดลที่ใช้ทำนาย\n",
        "model = Pipeline([\n",
        "    ('scaler', StandardScaler()),\n",
        "    ('pca', PCA(n_components=512)),\n",
        "    ('svm', SVC())\n",
        "])\n",
        "\n",
        "# เทรนโมเดล\n",
        "start_time = time.time()\n",
        "model.fit(X_train, y_train)\n",
        "end_time = time.time()\n",
        "execution_time = end_time - start_time\n",
        "print('Done training.')\n",
        "print(f\"Execution training time: {execution_time} seconds\")\n",
        "print('')\n",
        "\n",
        "# วิเคราะห์ค่าความแม่นยำ (accuracy)\n",
        "accuracy = model.score(X_test, y_test)\n",
        "print('Accuracy:', accuracy)"
      ]
    },
    {
      "cell_type": "code",
      "execution_count": 68,
      "metadata": {
        "id": "Yz3iMqD2-73b",
        "cellView": "form",
        "colab": {
          "base_uri": "https://localhost:8080/",
          "height": 405
        },
        "outputId": "85ca660a-d2f0-40c1-9548-53672253b9fe"
      },
      "outputs": [
        {
          "output_type": "stream",
          "name": "stdout",
          "text": [
            "Labels class: Apple___healthy\n",
            "Predicted disease: Apple___healthy\n"
          ]
        },
        {
          "output_type": "display_data",
          "data": {
            "text/plain": [
              "<Figure size 400x400 with 1 Axes>"
            ],
            "image/png": "[encoded data removed]"
          },
          "metadata": {}
        }
      ],
      "source": [
        "#@title **ขั้นตอนที่ 4** ทำนายลักษณะกลุ่มโรคของพืชผ่านโมเดลที่เตรียมไว้\n",
        "#@markdown ในขั้นตอนนี้จะเป็นการนำเข้ารูปภาพที่ต้องการทำนายมาทดสอบผ่านโมเดลที่เตรียมไว้\n",
        "\n",
        "from matplotlib import pyplot as plt\n",
        "\n",
        "# นำเข้ารูปภาพที่ต้องการทดสอบ\n",
        "filename = 'Plant_leave_diseases_dataset_without_augmentation/Apple___healthy/image (1).JPG'\n",
        "img = load_images(filename)\n",
        "img_input = np.array(img).reshape(1, -1)\n",
        "\n",
        "# ทำนายกลุ่มของรูปภาพที่ต้องการทดสอบ\n",
        "prediction = model.predict(img_input)\n",
        "print('Labels class:',filename.split('/')[-2])\n",
        "print('Predicted disease:', prediction[0])\n",
        "\n",
        "# แสดงตัวอย่างภาพ\n",
        "fig = plt.figure(figsize=(4, 4)) # define size of figure\n",
        "plt.imshow(img) # display image in the figure\n",
        "plt.show()"
      ]
    },
    {
      "cell_type": "code",
      "execution_count": null,
      "metadata": {
        "id": "bADskrHp--Eu"
      },
      "outputs": [],
      "source": []
    },
    {
      "cell_type": "markdown",
      "metadata": {
        "id": "jkRJ-ferSEOR"
      },
      "source": [
        "\\* ไฟล์เนื้อหาทั้งหมดรวมถึงโมเดลและชุดข้อมูลสำหรับการทำนายลักษณะกลุ่มโรคของพืชนี้ สามารถเข้าไปศึกษาเพิ่มเติมและดาวน์โหลดได้ที่[ https://github.com/hengkp/microbit_ml_examples](https://github.com/hengkp/microbit_ml_examples/tree/main/microgreens%20growth%20prediction)"
      ]
    }
  ],
  "metadata": {
    "colab": {
      "provenance": []
    },
    "kernelspec": {
      "display_name": "Python 3",
      "name": "python3"
    },
    "language_info": {
      "name": "python"
    }
  },
  "nbformat": 4,
  "nbformat_minor": 0
}